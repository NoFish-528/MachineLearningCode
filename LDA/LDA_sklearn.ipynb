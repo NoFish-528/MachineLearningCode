{
 "cells": [
  {
   "cell_type": "code",
   "execution_count": 1,
   "metadata": {},
   "outputs": [
    {
     "name": "stdout",
     "output_type": "stream",
     "text": [
      "acc:  1.0\n"
     ]
    }
   ],
   "source": [
    "from sklearn import datasets\n",
    "from sklearn.model_selection import train_test_split\n",
    "from sklearn.metrics import accuracy_score\n",
    "from sklearn.discriminant_analysis import LinearDiscriminantAnalysis\n",
    "# 导入数据\n",
    "data = datasets.load_iris()\n",
    "# 数据与标签\n",
    "X,y = data.data,data.target\n",
    "# 取标签不为2的数据，即就是0，1分类\n",
    "X = X[y!=2]\n",
    "y = y[y!=2]\n",
    "# 划分训练集和测试集\n",
    "X_train,X_test,y_train,y_test = train_test_split(X,y,test_size=0.2,random_state=2)\n",
    "# 实例化LDA类\n",
    "clf = LinearDiscriminantAnalysis()\n",
    "# LDA模型训练\n",
    "clf.fit(X_train,y_train)\n",
    "# LDA模型预测\n",
    "y_pred = clf.predict(X_test)\n",
    "# acc\n",
    "acc = accuracy_score(y_test,y_pred)\n",
    "print(\"acc: \" ,acc)"
   ]
  }
 ],
 "metadata": {
  "kernelspec": {
   "display_name": "Python 3.8.0 ('torch')",
   "language": "python",
   "name": "python3"
  },
  "language_info": {
   "codemirror_mode": {
    "name": "ipython",
    "version": 3
   },
   "file_extension": ".py",
   "mimetype": "text/x-python",
   "name": "python",
   "nbconvert_exporter": "python",
   "pygments_lexer": "ipython3",
   "version": "3.8.0"
  },
  "orig_nbformat": 4,
  "vscode": {
   "interpreter": {
    "hash": "d61e67d4406f83661a218a7594034be74564666d0640d3900a3e99845865d0f0"
   }
  }
 },
 "nbformat": 4,
 "nbformat_minor": 2
}
