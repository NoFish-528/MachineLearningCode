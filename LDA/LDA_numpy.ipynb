{
 "cells": [
  {
   "cell_type": "code",
   "execution_count": 2,
   "metadata": {},
   "outputs": [],
   "source": [
    "import numpy as np\n",
    "\n",
    "# 定义LDA类\n",
    "class LDA:\n",
    "    def __init__(self) -> None:\n",
    "        self.w = None\n",
    "    def calc_cov(self,X,Y=None):\n",
    "        m = X.shape[0]\n",
    "        # 数据标准化\n",
    "        X = (X-np.mean(X,axis=0))//np.std(X,axis=0)\n",
    "        Y = X if Y == None else\\\n",
    "            (Y-np.mean(Y,axis=0))//np.std(Y,axis=0)\n",
    "        return 1/m*np.matmul(X.T,Y)\n",
    "\n",
    "    def project(self,X,y):\n",
    "        self.fit(X,y)\n",
    "        # 数据投影\n",
    "        X_projection = X.dot(self.w)\n",
    "        return X_projection\n",
    "\n",
    "    def fit(self,X,y):\n",
    "        # 按类别分组\n",
    "        X0 = X[y==0]\n",
    "        X1 = X[y==1]\n",
    "        # 分别计算两类数据自变量的协方差矩阵\n",
    "        sigma0 = self.calc_cov(X0)\n",
    "        sigma1 = self.calc_cov(X1)\n",
    "        # 计算类内相似度矩阵\n",
    "        Sw = sigma0 + sigma1\n",
    "        # 分别计算两类数据自变量的均值和方差\n",
    "        mu0,mu1 = np.mean(X0,axis=0),np.mean(X1,axis=0)\n",
    "        mean_diff = np.atleast_1d(mu0-mu1) # 这步是什么意思\n",
    "        # 对类内散度进行奇异值分解\n",
    "        U,S,V = np.linalg.svd(Sw)\n",
    "        # 计算类内散度矩阵的逆\n",
    "        Sw_ = np.dot(np.dot(V.T,np.linalg.pinv(np.diag(S))),U.T)\n",
    "        # 计算W\n",
    "        self.w = Sw_.dot(mean_diff)\n",
    "        \n",
    "    def predict(self,X):\n",
    "        # 初始化预测结果为空列表\n",
    "        y_pred = []\n",
    "        for x_i in X:\n",
    "            h = x_i.dot(self.w)\n",
    "            y = 1*(h<0) # 进行分类\n",
    "            y_pred.append(y)\n",
    "        return y_pred"
   ]
  },
  {
   "cell_type": "code",
   "execution_count": 9,
   "metadata": {},
   "outputs": [
    {
     "name": "stdout",
     "output_type": "stream",
     "text": [
      "acc:  1.0\n"
     ]
    }
   ],
   "source": [
    "from sklearn import datasets\n",
    "from sklearn.model_selection import train_test_split\n",
    "from sklearn.metrics import accuracy_score\n",
    "# 导入数据\n",
    "data = datasets.load_iris()\n",
    "# 数据与标签\n",
    "X,y = data.data,data.target\n",
    "# 取标签不为2的数据，即就是0，1分类\n",
    "X = X[y!=2]\n",
    "y = y[y!=2]\n",
    "# 划分训练集和测试集\n",
    "X_train,X_test,y_train,y_test = train_test_split(X,y,test_size=0.2,random_state=2)\n",
    "# 实例化LDA类\n",
    "lda = LDA()\n",
    "# LDA模型训练\n",
    "lda.fit(X_train,y_train)\n",
    "# LDA模型预测\n",
    "y_pred = lda.predict(X_test)\n",
    "# acc\n",
    "acc = accuracy_score(y_test,y_pred)\n",
    "print(\"acc: \" ,acc)"
   ]
  }
 ],
 "metadata": {
  "kernelspec": {
   "display_name": "Python 3.8.0 ('torch')",
   "language": "python",
   "name": "python3"
  },
  "language_info": {
   "codemirror_mode": {
    "name": "ipython",
    "version": 3
   },
   "file_extension": ".py",
   "mimetype": "text/x-python",
   "name": "python",
   "nbconvert_exporter": "python",
   "pygments_lexer": "ipython3",
   "version": "3.8.0"
  },
  "orig_nbformat": 4,
  "vscode": {
   "interpreter": {
    "hash": "d61e67d4406f83661a218a7594034be74564666d0640d3900a3e99845865d0f0"
   }
  }
 },
 "nbformat": 4,
 "nbformat_minor": 2
}
