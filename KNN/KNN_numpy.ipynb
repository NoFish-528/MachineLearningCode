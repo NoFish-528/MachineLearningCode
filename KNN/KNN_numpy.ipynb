{
 "cells": [
  {
   "cell_type": "code",
   "execution_count": 14,
   "metadata": {},
   "outputs": [],
   "source": [
    "import numpy as np\n",
    "from sklearn import datasets\n",
    "from sklearn.utils import shuffle\n",
    "from sklearn.model_selection import train_test_split\n",
    "from sklearn.model_selection import KFold\n",
    "import matplotlib.pyplot as plt"
   ]
  },
  {
   "cell_type": "code",
   "execution_count": 6,
   "metadata": {},
   "outputs": [],
   "source": [
    "# 导入数据集\n",
    "iris = datasets.load_iris()\n",
    "# 交叉验证划分数据集\n",
    "kfold = KFold(n_splits=5, shuffle=True, random_state=0)\n",
    "# 普通划分数据集\n",
    "X_train, X_test, y_train, y_test = train_test_split(iris.data, iris.target, test_size=0.2, random_state=0)\n"
   ]
  },
  {
   "cell_type": "code",
   "execution_count": 32,
   "metadata": {},
   "outputs": [],
   "source": [
    "# 距离度量 -> 这个只能是算两点之间的距离，要考虑矩阵情况下如何计算\n",
    "def compute_distance(x1, x2):\n",
    "    return np.sqrt(np.sum(np.square(x1 - x2)))\n",
    "\n",
    "def compute_distance_matrix(matrix1, matrix2):\n",
    "    # 计算矩阵的行数\n",
    "    m = matrix1.shape[0]\n",
    "    n = matrix2.shape[0]\n",
    "    # 初始化一个矩阵\n",
    "    distance_matrix = np.zeros((m, n))\n",
    "    for i in range(m):\n",
    "        for j in range(n):\n",
    "            distance_matrix[i, j] = compute_distance(matrix1[i], matrix2[j])\n",
    "    return distance_matrix\n",
    "\n",
    "def compute_distance_m(matrix1,matrix2):\n",
    "    m = matrix1.shape[0]\n",
    "    n = matrix2.shape[0]\n",
    "    distance_matrix = np.zeros((m,n))\n",
    "    # 距离的展开式 \n",
    "    M = np.dot(matrix1, matrix2.T)\n",
    "    print(M.shape)\n",
    "    # 矩阵一的平方和\n",
    "    m1 = np.square(matrix1).sum(axis=1)\n",
    "    print(np.matrix(m1).shape)\n",
    "    print(m1.reshape(-1,1).shape)\n",
    "    # 矩阵二的平方和\n",
    "    m2 = np.square(matrix2).sum(axis=1)\n",
    "    print(m2.shape)\n",
    "    # 计算所有的距离\n",
    "    dists = np.sqrt(-2 * M +np.matrix(m1).T+ m2)\n",
    "    return dists\n"
   ]
  },
  {
   "cell_type": "code",
   "execution_count": 42,
   "metadata": {},
   "outputs": [
    {
     "name": "stdout",
     "output_type": "stream",
     "text": [
      "(120, 30)\n"
     ]
    },
    {
     "data": {
      "image/png": "[encoded data removed]",
      "text/plain": [
       "<Figure size 640x480 with 1 Axes>"
      ]
     },
     "metadata": {},
     "output_type": "display_data"
    }
   ],
   "source": [
    "dist = compute_distance_matrix(X_train, X_test)\n",
    "print(dist.shape)\n",
    "plt.imshow(dist, interpolation='none')\n",
    "plt.show()"
   ]
  },
  {
   "cell_type": "code",
   "execution_count": 45,
   "metadata": {},
   "outputs": [
    {
     "data": {
      "text/plain": [
       "array([2., 1., 0., 2., 0., 2., 0., 1., 1., 1., 2., 1., 1., 1., 2., 0., 1.,\n",
       "       1., 0., 0., 2., 1., 0., 0., 2., 0., 0., 1., 1., 0.])"
      ]
     },
     "execution_count": 45,
     "metadata": {},
     "output_type": "execute_result"
    }
   ],
   "source": [
    "from collections import Counter\n",
    "# 标签预测函数\n",
    "def predict_label(distance, y_train, k):\n",
    "    num_test = distance.shape[1]\n",
    "    y_pred = np.zeros(num_test)\n",
    "    for i in range(num_test):\n",
    "        closet_y = []\n",
    "        labels = y_train[np.argsort(distance[:, i])].flatten() # np.argsort()返回的是数组值从小到大的索引值\n",
    "        closet_y = labels[:k]\n",
    "        y_pred[i] = Counter(closet_y).most_common(1)[0][0] # Counter.most_common(n)返回前n个出现次数最多的元素和出现次数\n",
    "    return y_pred\n",
    "predict_label(dist, y_train, 5)"
   ]
  },
  {
   "cell_type": "code",
   "execution_count": 46,
   "metadata": {},
   "outputs": [
    {
     "name": "stdout",
     "output_type": "stream",
     "text": [
      "[2. 1. 0. 2. 0. 2. 0. 1. 1. 1. 2. 1. 1. 1. 2. 0. 1. 1. 0. 0. 2. 1. 0. 0.\n",
      " 2. 0. 0. 1. 1. 0.]\n",
      "The accuracy is:  0.9666666666666667\n"
     ]
    }
   ],
   "source": [
    "y_test_pred = predict_label(dist, y_train, 5)\n",
    "print(y_test_pred)\n",
    "print('The accuracy is: ', np.mean(y_test_pred == y_test))"
   ]
  }
 ],
 "metadata": {
  "kernelspec": {
   "display_name": "Python 3.8.0 ('torch')",
   "language": "python",
   "name": "python3"
  },
  "language_info": {
   "codemirror_mode": {
    "name": "ipython",
    "version": 3
   },
   "file_extension": ".py",
   "mimetype": "text/x-python",
   "name": "python",
   "nbconvert_exporter": "python",
   "pygments_lexer": "ipython3",
   "version": "3.8.0"
  },
  "orig_nbformat": 4,
  "vscode": {
   "interpreter": {
    "hash": "d61e67d4406f83661a218a7594034be74564666d0640d3900a3e99845865d0f0"
   }
  }
 },
 "nbformat": 4,
 "nbformat_minor": 2
}
