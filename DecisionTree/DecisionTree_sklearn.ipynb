{
 "cells": [
  {
   "cell_type": "code",
   "execution_count": 21,
   "metadata": {},
   "outputs": [],
   "source": [
    "from sklearn import datasets\n",
    "from sklearn.model_selection import train_test_split\n",
    "from sklearn.tree import DecisionTreeClassifier\n",
    "from sklearn.metrics import classification_report\n",
    "from sklearn.metrics import accuracy_score,mean_squared_error"
   ]
  },
  {
   "cell_type": "code",
   "execution_count": 13,
   "metadata": {},
   "outputs": [
    {
     "name": "stdout",
     "output_type": "stream",
     "text": [
      "[0 2 2 1 0 0 0 0 0 2 2 1 0 2 1 0 1 2 2 2 1 1 1 2 2 1 0 0 0 1]\n",
      "[0 2 2 1 0 0 0 0 0 2 2 1 0 2 1 0 1 2 2 2 1 1 1 2 2 1 0 0 0 1]\n",
      "              precision    recall  f1-score   support\n",
      "\n",
      "           0       1.00      1.00      1.00        11\n",
      "           1       1.00      1.00      1.00         9\n",
      "           2       1.00      1.00      1.00        10\n",
      "\n",
      "    accuracy                           1.00        30\n",
      "   macro avg       1.00      1.00      1.00        30\n",
      "weighted avg       1.00      1.00      1.00        30\n",
      "\n"
     ]
    }
   ],
   "source": [
    "# 导入数据集\n",
    "data = datasets.load_iris()\n",
    "X,y = data.data,data.target\n",
    "y = y.reshape((-1,1))\n",
    "# 划分训练集和测试集\n",
    "X_train,X_test,y_train,y_test = train_test_split(X,y,test_size=0.2)\n",
    "clf = DecisionTreeClassifier()\n",
    "clf.fit(X_train,y_train)\n",
    "y_pred = clf.predict(X_test)\n",
    "print(y_pred)\n",
    "print(y_test.reshape((1,-1))[0])\n",
    "print(classification_report(y_test,y_pred))"
   ]
  },
  {
   "cell_type": "code",
   "execution_count": 25,
   "metadata": {},
   "outputs": [
    {
     "name": "stdout",
     "output_type": "stream",
     "text": [
      "[10.9 22.   9.7 21.4 20.1 32.  32.  15.6 24.8 14.9 36.  23.9 20.8 18.5\n",
      " 14.5 23.2 19.1 33.3 23.7 17.1 21.4 21.4 29.1 10.5 23.8  7.4 50.  23.1\n",
      " 13.1 24.5 25.  15.  17.8 20.8 50.  10.9 20.1 23.8 13.1 12.1 50.  19.3\n",
      " 23.8 16.2 23.  22.8 10.9 22.  28.7 22.  23.8 20.2 50.  33.3 14.9 23.9\n",
      " 20.5 16.6 22.6 28.5 23.1 32.4 20.  34.9 13.8 20.1 25.  12.3 22.6 50.\n",
      "  8.1 29.1 23.9 39.8  8.7 20.5 15.6 23.3 30.1 16.8 15.  17.4 22.6 30.1\n",
      " 20.3 22.8 23.7 19.4 23.2 19.5 19.7 15.6 26.5 23.1 23.8 32.4  8.5 19.4\n",
      " 18.9 33.3 50.  50. ]\n",
      "[17.2 24.7 10.8 18.8 21.2 35.1 31.1 13.1 23.5 13.5 36.5 23.4 21.9 19.6\n",
      " 19.7 21.2 17.5 34.9 24.3 17.7 22.6 20.5 22.5  8.8 19.1  8.4 21.9 27.5\n",
      " 13.9 25.  23.6 10.4 14.  21.4 43.1 13.3 22.2 21.4 17.8  9.5 48.8 20.6\n",
      " 19.2 14.3 19.6 20.6 10.2 21.  25.2 25.1 29.  21.7 35.2 34.6 20.  24.2\n",
      " 20.6 16.8 19.2 28.  21.  32.  21.1 33.4 17.9 24.4 21.6 11.  19.3 48.5\n",
      "  7.  22.9 50.  50.  11.8 21.9 17.4 16.5 41.3 20.4 17.8 18.2 24.7 27.5\n",
      " 22.  22.7 24.4 17.1 24.1 19.5 23.4 17.4 27.5 23.  25.  33.1 10.4 20.9\n",
      " 22.9 30.3 27.9 43.5]\n",
      "31.25950980392157\n",
      "mean squared error 31.259510\n"
     ]
    }
   ],
   "source": [
    "# 回归树 -> CART\n",
    "from sklearn.tree import DecisionTreeRegressor\n",
    "import warnings\n",
    "warnings.filterwarnings('ignore')\n",
    "\n",
    "data = datasets.load_boston()\n",
    "X,y = data.data,data.target\n",
    "X_train,X_test,y_train,y_test = train_test_split(X,y,test_size=0.2)\n",
    "reg = DecisionTreeRegressor()\n",
    "reg.fit(X_train,y_train)\n",
    "y_pred = reg.predict(X_test)\n",
    "print(y_pred)\n",
    "print(y_test)\n",
    "print(mean_squared_error(y_test,y_pred))\n",
    "print(\"mean squared error %3f\"%mean_squared_error(y_test,y_pred))"
   ]
  },
  {
   "cell_type": "code",
   "execution_count": null,
   "metadata": {},
   "outputs": [],
   "source": []
  },
  {
   "cell_type": "code",
   "execution_count": null,
   "metadata": {},
   "outputs": [],
   "source": []
  }
 ],
 "metadata": {
  "kernelspec": {
   "display_name": "Python 3.8.0 ('torch')",
   "language": "python",
   "name": "python3"
  },
  "language_info": {
   "codemirror_mode": {
    "name": "ipython",
    "version": 3
   },
   "file_extension": ".py",
   "mimetype": "text/x-python",
   "name": "python",
   "nbconvert_exporter": "python",
   "pygments_lexer": "ipython3",
   "version": "3.8.0"
  },
  "orig_nbformat": 4,
  "vscode": {
   "interpreter": {
    "hash": "d61e67d4406f83661a218a7594034be74564666d0640d3900a3e99845865d0f0"
   }
  }
 },
 "nbformat": 4,
 "nbformat_minor": 2
}
