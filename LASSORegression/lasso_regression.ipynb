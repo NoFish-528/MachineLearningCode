{
 "cells": [
  {
   "cell_type": "code",
   "execution_count": 2,
   "metadata": {
    "pycharm": {
     "name": "#%%\n"
    }
   },
   "outputs": [],
   "source": [
    "import numpy as np\n",
    "# 定义符号函数\n",
    "def sign(x):\n",
    "    if x>0:\n",
    "        return 1\n",
    "    elif x<0:\n",
    "        return -1\n",
    "    else:\n",
    "        return 0\n",
    "# 向量化加速 -> 传入一个自己想要实现的函数\n",
    "vec_sign = np.vectorize(sign)"
   ]
  },
  {
   "cell_type": "code",
   "execution_count": 3,
   "metadata": {
    "collapsed": false,
    "pycharm": {
     "name": "#%%\n"
    }
   },
   "outputs": [],
   "source": [
    "# 定义LASSO回归损失函数\n",
    "def l1_loss(X,y,w,b,alpha):\n",
    "    num_train = X.shape[0]\n",
    "    num_feature = X.shape[1]\n",
    "    y_hat = np.dot(X,w)+b\n",
    "    # l1损失函数\n",
    "    loss = np.sum((y_hat-y)**2)/num_train + np.sum(alpha*abs(w))\n",
    "    # 基于向量化符号函数的参数梯度运算\n",
    "    dw = np.dot(X.T,(y_hat-y))/num_train +alpha*vec_sign(w)\n",
    "    db = np.sum((y_hat-y))/num_train\n",
    "    return y_hat,loss,dw,db"
   ]
  },
  {
   "cell_type": "code",
   "execution_count": 4,
   "metadata": {
    "collapsed": false,
    "pycharm": {
     "name": "#%%\n"
    }
   },
   "outputs": [],
   "source": [
    "# 初始化参数\n",
    "def initialize_parameters(dims):\n",
    "    \"\"\"\n",
    "    :param dims: 特征数量\n",
    "    :return: 权重和偏置\n",
    "    \"\"\"\n",
    "    w = np.zeros((dims,1))\n",
    "    b = 0\n",
    "    return w,b"
   ]
  },
  {
   "cell_type": "code",
   "execution_count": 12,
   "metadata": {
    "collapsed": false,
    "pycharm": {
     "name": "#%%\n"
    }
   },
   "outputs": [],
   "source": [
    "# 定义模型的训练过程\n",
    "def lasso_train(X,y,learning_rate,epochs=10000):\n",
    "    \"\"\"\n",
    "    :param X: 特征\n",
    "    :param y: 标签\n",
    "    :param learning_rate: 学习率\n",
    "    :param epochs: 迭代次数\n",
    "    \"\"\"\n",
    "    loss_history = []\n",
    "    # 初始化参数\n",
    "    w,b=initialize_parameters(X.shape[1])\n",
    "    # 迭代训练\n",
    "    for i in range(epochs):\n",
    "        # 计算当前迭代值，均方损失和梯度\n",
    "        y_hat,loss,dw,db = l1_loss(X,y,w,b,0.1)\n",
    "        # 更新参数\n",
    "        w = w - learning_rate*dw\n",
    "        b = b - learning_rate*db\n",
    "        # 记录当前迭代损失\n",
    "        loss_history.append(loss)\n",
    "        # 打印当前迭代损失\n",
    "        if i%1000==0:\n",
    "            print(\"Epoch: {0}, loss: {1}\".format(i,loss))\n",
    "        # 记录模型参数\n",
    "        params = {\n",
    "            \"w\":w,\n",
    "            \"b\":b\n",
    "        }\n",
    "        # 记录梯度信息\n",
    "        grads = {\n",
    "            \"dw\":dw,\n",
    "            \"db\":db\n",
    "        }\n",
    "    return loss_history,params,grads"
   ]
  },
  {
   "cell_type": "code",
   "execution_count": 6,
   "metadata": {
    "collapsed": false,
    "pycharm": {
     "name": "#%%\n"
    }
   },
   "outputs": [
    {
     "name": "stdout",
     "output_type": "stream",
     "text": [
      "(442, 10)\n",
      "dict_keys(['data', 'target', 'frame', 'DESCR', 'feature_names', 'data_filename', 'target_filename', 'data_module'])\n",
      "(353, 10)\n",
      "(89, 10)\n",
      "(353, 1)\n",
      "(89, 1)\n"
     ]
    }
   ],
   "source": [
    "# 数据准备\n",
    "from sklearn.datasets import load_diabetes\n",
    "from sklearn.utils import shuffle\n",
    "from sklearn.model_selection import train_test_split\n",
    "diabetes = load_diabetes()\n",
    "# 查看数据大小\n",
    "print(diabetes.data.shape)\n",
    "# 查看数据的keys\n",
    "print(diabetes.keys())\n",
    "# 打乱数据集\n",
    "X,y = shuffle(diabetes.data,diabetes.target,random_state=13)\n",
    "# 划分训练数据集和测试数据集\n",
    "X_train,X_test,y_train,y_test = train_test_split(X,y,test_size=0.2,random_state=13)\n",
    "# 将y转换为列向量\n",
    "y_train,y_test = y_train.reshape(-1,1),y_test.reshape(-1,1)\n",
    "print(X_train.shape)\n",
    "print(X_test.shape)\n",
    "print(y_train.shape)\n",
    "print(y_test.shape)"
   ]
  },
  {
   "cell_type": "code",
   "execution_count": 13,
   "metadata": {
    "collapsed": false,
    "pycharm": {
     "name": "#%%\n"
    }
   },
   "outputs": [
    {
     "name": "stdout",
     "output_type": "stream",
     "text": [
      "Epoch: 0, loss: 28947.98583569405\n",
      "Epoch: 1000, loss: 4082.9218900457136\n",
      "Epoch: 2000, loss: 3543.502600854982\n",
      "Epoch: 3000, loss: 3326.1378925818367\n",
      "Epoch: 4000, loss: 3210.941060785168\n",
      "Epoch: 5000, loss: 3143.8918466522446\n",
      "Epoch: 6000, loss: 3100.4217976064356\n",
      "Epoch: 7000, loss: 3072.046576329014\n",
      "Epoch: 8000, loss: 3052.440325353437\n",
      "Epoch: 9000, loss: 3038.5426803919745\n",
      "Epoch: 10000, loss: 3028.484239264576\n",
      "Epoch: 11000, loss: 3021.0702398038625\n",
      "Epoch: 12000, loss: 3015.5126904574117\n",
      "Epoch: 13000, loss: 3011.2850527551327\n",
      "Epoch: 14000, loss: 3008.0245175631967\n",
      "Epoch: 15000, loss: 3005.4110330218023\n",
      "Epoch: 16000, loss: 3003.318565014286\n",
      "Epoch: 17000, loss: 3001.636352005138\n",
      "Epoch: 18000, loss: 3000.276541280038\n",
      "Epoch: 19000, loss: 2999.2254461354805\n",
      "Epoch: 20000, loss: 2998.4986679876247\n",
      "Epoch: 21000, loss: 2997.977712782552\n",
      "Epoch: 22000, loss: 2997.58840022603\n",
      "Epoch: 23000, loss: 2997.2938249939475\n",
      "Epoch: 24000, loss: 2997.070362646304\n",
      "Epoch: 25000, loss: 2996.8958810271765\n",
      "Epoch: 26000, loss: 2996.7612801199\n",
      "Epoch: 27000, loss: 2996.65638030854\n",
      "Epoch: 28000, loss: 2996.575002119886\n",
      "Epoch: 29000, loss: 2996.510830514053\n"
     ]
    }
   ],
   "source": [
    "loss,params,grads = lasso_train(X_train,y_train,learning_rate=0.1,epochs=30000)\n",
    "# print(params)"
   ]
  },
  {
   "cell_type": "code",
   "execution_count": 8,
   "metadata": {
    "pycharm": {
     "name": "#%%\n"
    }
   },
   "outputs": [
    {
     "name": "stdout",
     "output_type": "stream",
     "text": [
      "{'w': array([[ 4.26679377e-03],\n",
      "       [-1.22115889e+02],\n",
      "       [ 4.89683420e+02],\n",
      "       [ 3.28038657e+02],\n",
      "       [-6.97241466e-03],\n",
      "       [-9.11365587e+01],\n",
      "       [-1.68892473e+02],\n",
      "       [ 7.27624765e-03],\n",
      "       [ 5.29864979e+02],\n",
      "       [ 3.89385224e+01]]), 'b': 152.61254533591327}\n"
     ]
    }
   ],
   "source": [
    "print(params)"
   ]
  },
  {
   "cell_type": "code",
   "execution_count": null,
   "metadata": {
    "pycharm": {
     "name": "#%%\n"
    }
   },
   "outputs": [],
   "source": []
  },
  {
   "cell_type": "code",
   "execution_count": null,
   "metadata": {},
   "outputs": [],
   "source": []
  },
  {
   "cell_type": "code",
   "execution_count": null,
   "metadata": {},
   "outputs": [],
   "source": []
  },
  {
   "cell_type": "code",
   "execution_count": null,
   "metadata": {},
   "outputs": [],
   "source": []
  },
  {
   "cell_type": "code",
   "execution_count": null,
   "metadata": {},
   "outputs": [],
   "source": []
  },
  {
   "cell_type": "code",
   "execution_count": null,
   "metadata": {},
   "outputs": [],
   "source": []
  }
 ],
 "metadata": {
  "kernelspec": {
   "display_name": "Python 3.8.0 ('torch')",
   "language": "python",
   "name": "python3"
  },
  "language_info": {
   "codemirror_mode": {
    "name": "ipython",
    "version": 3
   },
   "file_extension": ".py",
   "mimetype": "text/x-python",
   "name": "python",
   "nbconvert_exporter": "python",
   "pygments_lexer": "ipython3",
   "version": "3.8.0"
  },
  "vscode": {
   "interpreter": {
    "hash": "d61e67d4406f83661a218a7594034be74564666d0640d3900a3e99845865d0f0"
   }
  }
 },
 "nbformat": 4,
 "nbformat_minor": 1
}
