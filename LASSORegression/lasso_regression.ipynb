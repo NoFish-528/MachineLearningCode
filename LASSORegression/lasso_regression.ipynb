{
 "cells": [
  {
   "cell_type": "code",
   "execution_count": 53,
   "metadata": {
    "pycharm": {
     "name": "#%%\n"
    }
   },
   "outputs": [],
   "source": [
    "import numpy as np\n",
    "# 定义符号函数\n",
    "def sign(x):\n",
    "    if x>0:\n",
    "        return 1\n",
    "    elif x<0:\n",
    "        return -1\n",
    "    else:\n",
    "        return 0\n",
    "# 向量化加速 -> 传入一个自己想要实现的函数\n",
    "vec_sign = np.vectorize(sign)"
   ]
  },
  {
   "cell_type": "code",
   "execution_count": 70,
   "outputs": [],
   "source": [
    "# 定义LASSO回归损失函数\n",
    "def l1_loss(X,y,w,b,alpha):\n",
    "    num_train = X.shape[0]\n",
    "    num_feature = X.shape[1]\n",
    "    y_hat = np.dot(X,w)+b\n",
    "    # l1损失函数\n",
    "    loss = np.sum((y_hat-y)**2)/num_train + np.sum(alpha*abs(w))\n",
    "    # 基于向量化符号函数的参数梯度运算\n",
    "    dw = np.dot(X.T,(y_hat-y))/num_train +alpha*vec_sign(w)\n",
    "    db = np.sum((y_hat-y))/num_train\n",
    "    return y_hat,loss,dw,db"
   ],
   "metadata": {
    "collapsed": false,
    "pycharm": {
     "name": "#%%\n"
    }
   }
  },
  {
   "cell_type": "code",
   "execution_count": 55,
   "outputs": [],
   "source": [
    "# 初始化参数\n",
    "def initialize_parameters(dims):\n",
    "    \"\"\"\n",
    "    :param dims: 特征数量\n",
    "    :return: 权重和偏置\n",
    "    \"\"\"\n",
    "    w = np.zeros((dims,1))\n",
    "    b = 0\n",
    "    return w,b"
   ],
   "metadata": {
    "collapsed": false,
    "pycharm": {
     "name": "#%%\n"
    }
   }
  },
  {
   "cell_type": "code",
   "execution_count": 72,
   "outputs": [],
   "source": [
    "# 定义模型的训练过程\n",
    "def lasso_train(X,y,learning_rate,epochs=10000):\n",
    "    \"\"\"\n",
    "    :param X: 特征\n",
    "    :param y: 标签\n",
    "    :param learning_rate: 学习率\n",
    "    :param epochs: 迭代次数\n",
    "    \"\"\"\n",
    "    loss_history = []\n",
    "    # 初始化参数\n",
    "    w,b=initialize_parameters(X.shape[1])\n",
    "    # 迭代训练\n",
    "    for i in range(epochs):\n",
    "        # 计算当前迭代值，均方损失和梯度\n",
    "        y_hat,loss,dw,db = l1_loss(X,y,w,b,0.1)\n",
    "        # 更新参数\n",
    "        w = w - learning_rate*dw\n",
    "        b = b - learning_rate*db\n",
    "        # 记录当前迭代损失\n",
    "        loss_history.append(loss)\n",
    "        # 打印当前迭代损失\n",
    "        if i%1000==0:\n",
    "            print(\"Epoch: {0}, loss: {1}\".format(i,loss))\n",
    "        # 记录模型参数\n",
    "        params = {\n",
    "            \"w\":w,\n",
    "            \"b\":b\n",
    "        }\n",
    "        # 记录梯度信息\n",
    "        grads = {\n",
    "            \"dw\":dw,\n",
    "            \"db\":db\n",
    "        }\n",
    "    return loss_history,params,grads"
   ],
   "metadata": {
    "collapsed": false,
    "pycharm": {
     "name": "#%%\n"
    }
   }
  },
  {
   "cell_type": "code",
   "execution_count": 57,
   "outputs": [
    {
     "name": "stdout",
     "output_type": "stream",
     "text": [
      "(442, 10)\n",
      "dict_keys(['data', 'target', 'frame', 'DESCR', 'feature_names', 'data_filename', 'target_filename', 'data_module'])\n",
      "(353, 10)\n",
      "(89, 10)\n",
      "(353, 1)\n",
      "(89, 1)\n"
     ]
    }
   ],
   "source": [
    "# 数据准备\n",
    "from sklearn.datasets import load_diabetes\n",
    "from sklearn.utils import shuffle\n",
    "from sklearn.model_selection import train_test_split\n",
    "diabetes = load_diabetes()\n",
    "# 查看数据大小\n",
    "print(diabetes.data.shape)\n",
    "# 查看数据的keys\n",
    "print(diabetes.keys())\n",
    "# 打乱数据集\n",
    "X,y = shuffle(diabetes.data,diabetes.target,random_state=13)\n",
    "# 划分训练数据集和测试数据集\n",
    "X_train,X_test,y_train,y_test = train_test_split(X,y,test_size=0.2,random_state=13)\n",
    "# 将y转换为列向量\n",
    "y_train,y_test = y_train.reshape(-1,1),y_test.reshape(-1,1)\n",
    "print(X_train.shape)\n",
    "print(X_test.shape)\n",
    "print(y_train.shape)\n",
    "print(y_test.shape)"
   ],
   "metadata": {
    "collapsed": false,
    "pycharm": {
     "name": "#%%\n"
    }
   }
  },
  {
   "cell_type": "code",
   "execution_count": 73,
   "outputs": [
    {
     "name": "stdout",
     "output_type": "stream",
     "text": [
      "Epoch: 0, loss: 28947.98583569405\n",
      "Epoch: 1000, loss: 4082.9185007194055\n",
      "Epoch: 2000, loss: 3543.4991476051096\n",
      "Epoch: 3000, loss: 3326.134296410226\n",
      "Epoch: 4000, loss: 3210.9371938868076\n",
      "Epoch: 5000, loss: 3143.8876467439623\n",
      "Epoch: 6000, loss: 3100.417347158409\n",
      "Epoch: 7000, loss: 3072.041868898334\n",
      "Epoch: 8000, loss: 3052.435378025642\n",
      "Epoch: 9000, loss: 3038.537433767955\n",
      "Epoch: 10000, loss: 3028.478814328614\n",
      "Epoch: 11000, loss: 3021.0651724156837\n",
      "Epoch: 12000, loss: 3015.507184661337\n",
      "Epoch: 13000, loss: 3011.279460809071\n",
      "Epoch: 14000, loss: 3008.0185981058794\n",
      "Epoch: 15000, loss: 3005.4053147125605\n",
      "Epoch: 16000, loss: 3003.312802437381\n",
      "Epoch: 17000, loss: 3001.6305493002624\n",
      "Epoch: 18000, loss: 3000.270343060606\n",
      "Epoch: 19000, loss: 2999.219607160611\n",
      "Epoch: 20000, loss: 2998.4928219667063\n",
      "Epoch: 21000, loss: 2997.97137301095\n",
      "Epoch: 22000, loss: 2997.5825249070135\n",
      "Epoch: 23000, loss: 2997.2875909125387\n",
      "Epoch: 24000, loss: 2997.063883270451\n",
      "Epoch: 25000, loss: 2996.889356677788\n",
      "Epoch: 26000, loss: 2996.75536587822\n",
      "Epoch: 27000, loss: 2996.6509482282195\n",
      "Epoch: 28000, loss: 2996.569590746169\n",
      "Epoch: 29000, loss: 2996.5045238077587\n"
     ]
    }
   ],
   "source": [
    "loss,params,grads = lasso_train(X_train,y_train,learning_rate=0.1,epochs=30000)\n",
    "\n",
    "# print(params)"
   ],
   "metadata": {
    "collapsed": false,
    "pycharm": {
     "name": "#%%\n"
    }
   }
  },
  {
   "cell_type": "code",
   "execution_count": null,
   "metadata": {
    "pycharm": {
     "name": "#%%\n"
    }
   },
   "outputs": [],
   "source": []
  },
  {
   "cell_type": "code",
   "execution_count": null,
   "metadata": {
    "pycharm": {
     "name": "#%%\n"
    }
   },
   "outputs": [],
   "source": []
  },
  {
   "cell_type": "code",
   "execution_count": null,
   "metadata": {},
   "outputs": [],
   "source": []
  },
  {
   "cell_type": "code",
   "execution_count": null,
   "metadata": {},
   "outputs": [],
   "source": []
  },
  {
   "cell_type": "code",
   "execution_count": null,
   "metadata": {},
   "outputs": [],
   "source": []
  },
  {
   "cell_type": "code",
   "execution_count": null,
   "metadata": {},
   "outputs": [],
   "source": []
  },
  {
   "cell_type": "code",
   "execution_count": null,
   "metadata": {},
   "outputs": [],
   "source": []
  }
 ],
 "metadata": {
  "kernelspec": {
   "display_name": "Python 3 (ipykernel)",
   "language": "python",
   "name": "python3"
  },
  "language_info": {
   "codemirror_mode": {
    "name": "ipython",
    "version": 3
   },
   "file_extension": ".py",
   "mimetype": "text/x-python",
   "name": "python",
   "nbconvert_exporter": "python",
   "pygments_lexer": "ipython3",
   "version": "3.8.12"
  }
 },
 "nbformat": 4,
 "nbformat_minor": 1
}