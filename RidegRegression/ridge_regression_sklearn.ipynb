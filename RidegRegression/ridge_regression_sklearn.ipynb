{
 "cells": [
  {
   "cell_type": "code",
   "execution_count": 3,
   "metadata": {},
   "outputs": [
    {
     "name": "stdout",
     "output_type": "stream",
     "text": [
      "(442, 10)\n",
      "dict_keys(['data', 'target', 'frame', 'DESCR', 'feature_names', 'data_filename', 'target_filename', 'data_module'])\n",
      "(353, 10)\n",
      "(89, 10)\n",
      "(353, 1)\n",
      "(89, 1)\n"
     ]
    }
   ],
   "source": [
    "# 数据准备\n",
    "from sklearn.datasets import load_diabetes\n",
    "from sklearn.utils import shuffle\n",
    "from sklearn.model_selection import train_test_split\n",
    "diabetes = load_diabetes()\n",
    "# 查看数据大小\n",
    "print(diabetes.data.shape)\n",
    "# 查看数据的keys\n",
    "print(diabetes.keys())\n",
    "# 打乱数据集\n",
    "X,y = shuffle(diabetes.data,diabetes.target,random_state=13)\n",
    "# 划分训练数据集和测试数据集\n",
    "X_train,X_test,y_train,y_test = train_test_split(X,y,test_size=0.2,random_state=13)\n",
    "# 将y转换为列向量\n",
    "y_train,y_test = y_train.reshape(-1,1),y_test.reshape(-1,1)\n",
    "print(X_train.shape)\n",
    "print(X_test.shape)\n",
    "print(y_train.shape)\n",
    "print(y_test.shape)"
   ]
  },
  {
   "cell_type": "code",
   "execution_count": 4,
   "metadata": {},
   "outputs": [
    {
     "name": "stdout",
     "output_type": "stream",
     "text": [
      "[[  -4.63005102 -171.46164653  459.28036874  344.78760229  -41.38711937\n",
      "  -123.30971917 -167.13288234   75.28536948  493.91103781   93.7305027 ]]\n"
     ]
    }
   ],
   "source": [
    "from sklearn.linear_model import Ridge\n",
    "\n",
    "ridge_regression = Ridge(alpha=0.1)\n",
    "ridge_regression.fit(X_train,y_train)\n",
    "# 查看参数\n",
    "print(ridge_regression.coef_)"
   ]
  }
 ],
 "metadata": {
  "kernelspec": {
   "display_name": "Python 3.8.0 ('torch')",
   "language": "python",
   "name": "python3"
  },
  "language_info": {
   "codemirror_mode": {
    "name": "ipython",
    "version": 3
   },
   "file_extension": ".py",
   "mimetype": "text/x-python",
   "name": "python",
   "nbconvert_exporter": "python",
   "pygments_lexer": "ipython3",
   "version": "3.8.0"
  },
  "orig_nbformat": 4,
  "vscode": {
   "interpreter": {
    "hash": "d61e67d4406f83661a218a7594034be74564666d0640d3900a3e99845865d0f0"
   }
  }
 },
 "nbformat": 4,
 "nbformat_minor": 2
}
